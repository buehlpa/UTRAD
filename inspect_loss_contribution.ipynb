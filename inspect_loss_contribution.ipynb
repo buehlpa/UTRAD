{
 "cells": [
  {
   "cell_type": "markdown",
   "metadata": {},
   "source": [
    "# Individual Contributions of each Fmap to Loss"
   ]
  },
  {
   "cell_type": "code",
   "execution_count": null,
   "metadata": {},
   "outputs": [],
   "source": [
    "from utils.results import *\n",
    "import torch\n",
    "import matplotlib.pyplot as plt\n",
    "import matplotlib.pyplot as plt\n",
    "import torch\n",
    "import ipywidgets as widgets"
   ]
  },
  {
   "cell_type": "code",
   "execution_count": null,
   "metadata": {},
   "outputs": [],
   "source": [
    "anomaly_categories = {\n",
    "    'bottle': ['broken_large', 'broken_small', 'contamination'],\n",
    "    'cable': ['bent_wire', 'cable_swap', 'combined', 'cut_inner_insulation', 'cut_outer_insulation', 'missing_cable', 'missing_wire', 'poke_insulation'],\n",
    "    'capsule': ['crack', 'faulty_imprint', 'poke', 'scratch','squeeze'],\n",
    "    'carpet': ['color', 'cut', 'hole', 'metal_contamination', 'thread'],\n",
    "    'grid': ['bent', 'broken', 'glue', 'metal_contamination', 'thread'],\n",
    "    'hazelnut': ['crack', 'cut', 'hole', 'print'],\n",
    "    'leather': ['color', 'cut', 'fold', 'glue', 'poke'],\n",
    "    'metal_nut': ['bent', 'color', 'flip', 'scratch'],\n",
    "    'pill': ['color', 'combined','contamination', 'crack', 'faulty_imprint', 'pill_type','scratch'],\n",
    "    'screw': ['manipulated_front', 'scratch_head', 'scratch_neck','thread_side', 'thread_top'],\n",
    "    'tile': ['crack', 'glue_strip', 'gray_stroke', 'oil','rough'],\n",
    "    'toothbrush': ['defective'],\n",
    "    'transistor': ['bent_lead', 'cut_lead', 'damaged_case', 'misplaced'],\n",
    "    'wood': ['color', 'combined', 'hole', 'liquid', 'scratch'],\n",
    "    'zipper': ['broken_teeth', 'combined','fabric_border', 'fabric_interior','split_teeth','rough', 'squeezed_teeth']\n",
    "}"
   ]
  },
  {
   "cell_type": "markdown",
   "metadata": {},
   "source": [
    "# Clean"
   ]
  },
  {
   "cell_type": "markdown",
   "metadata": {},
   "source": [
    "## Bottle"
   ]
  },
  {
   "cell_type": "code",
   "execution_count": null,
   "metadata": {},
   "outputs": [],
   "source": [
    "\n",
    "# settings for the plots,\n",
    "dataset= 'mvtec'\n",
    "run= \"contamination_0\"  \n",
    "experiment=  \"DEV_refinement_25_03_24_1-\"#,\"Exp0-r18\",\n",
    "category= \"bottle\"\n",
    "\n",
    "\n",
    "RESPATH=\"results\"\n",
    "DATASET=os.path.join(RESPATH, dataset)  \n",
    "RUN_PATH= os.path.join(RESPATH, dataset,run)\n",
    "\n",
    "# trainingfmap\n",
    "TRAINSAVE_PATH= os.path.join(RUN_PATH, experiment+ f'{category}', \"trainsave_ind_loss.pth\")\n",
    "train_scores_individual = torch.load(TRAINSAVE_PATH)\n",
    "\n",
    "# training loss\n",
    "TRAINSAVE_1_PATH= os.path.join(RUN_PATH, experiment+ f'{category}', \"trainsave_loss_orig.pth\")\n",
    "train_scores_orig = torch.load(TRAINSAVE_1_PATH)\n",
    "\n",
    "# test fmap\n",
    "TESTSAVE_PATH= os.path.join(RUN_PATH, experiment+ f'{category}', \"testsave_ind_loss.pth\")\n",
    "test_scores_individual = torch.load(TESTSAVE_PATH)\n",
    "\n",
    "# testsave afer interpolation\n",
    "TESTSAVE_2_PATH= os.path.join(RUN_PATH, experiment+ f'{category}', \"testsave_loss_orig.pth\")\n",
    "test_scores_orig = torch.load(TESTSAVE_2_PATH)\n",
    "\n",
    "TESTSAVE_3_PATH = os.path.join(RUN_PATH, experiment+ f'{category}', \"testsave_score_after_interpolation.pth\")\n",
    "test_scores_interpolation = torch.load(TESTSAVE_3_PATH)\n",
    "\n",
    "\n",
    "TESTSAVE_4_PATH = os.path.join(RUN_PATH, experiment+ f'{category}', \"testsave_score_end.pth\")\n",
    "test_scores_end = torch.load(TESTSAVE_4_PATH)\n"
   ]
  },
  {
   "cell_type": "markdown",
   "metadata": {},
   "source": [
    "### Trainset"
   ]
  },
  {
   "cell_type": "markdown",
   "metadata": {},
   "source": [
    "#### sample per fmap\n",
    "y axis : sample losses\n",
    "\n",
    "x axis : featuremaps"
   ]
  },
  {
   "cell_type": "code",
   "execution_count": null,
   "metadata": {},
   "outputs": [],
   "source": [
    "def heatmaps_per_epoch(epoch):\n",
    "    firsthmap=[]\n",
    "    for key in train_scores_individual.keys():\n",
    "        firsthmap.append(train_scores_individual[key][epoch])\n",
    "        \n",
    "    stacked_tensor = torch.stack(firsthmap, dim=0)\n",
    "    # Plotting the heatmap\n",
    "    plt.figure(figsize=(20, 10))  # Adjust the figure size as needed\n",
    "    plt.imshow(stacked_tensor, aspect='auto', cmap='magma', vmin=0, vmax=0.05)  # Set vmin and vmax for colorbar range\n",
    "    plt.colorbar()  # Show the color bar representing the value scale\n",
    "    plt.xlabel('Fmap')\n",
    "    plt.ylabel('sample')\n",
    "    plt.title(f'Training, Images vs Features Individual losses, category: {category}')\n",
    "    plt.show()\n",
    "epoch_slider = widgets.IntSlider(value=0,min=0,max=50-1,step=1,description='Epoch:')\n",
    "widgets.interact(heatmaps_per_epoch, epoch=epoch_slider)"
   ]
  },
  {
   "cell_type": "markdown",
   "metadata": {},
   "source": [
    "#### sample loss per epoch\n",
    "the loss considered by the model from each sample"
   ]
  },
  {
   "cell_type": "code",
   "execution_count": null,
   "metadata": {},
   "outputs": [],
   "source": [
    "hmap = []\n",
    "for key in train_scores_orig.keys():\n",
    "    if isinstance(train_scores_orig[key], list) and all(isinstance(t, torch.Tensor) for t in train_scores_orig[key]):\n",
    "        tensor = torch.cat([t.unsqueeze(0) for t in train_scores_orig[key]], dim=0)\n",
    "        hmap.append(tensor)\n",
    "    else:\n",
    "        hmap.append(train_scores_orig[key])\n",
    "stacked_tensor = torch.stack(hmap, dim=0)\n",
    "plt.figure(figsize=(20, 10))  # Adjust the figure size as needed\n",
    "plt.imshow(stacked_tensor, aspect='auto', cmap='magma', vmin=0, vmax=0.05)  # Set vmin and vmax for colorbar range\n",
    "plt.colorbar()  # Show the color bar representing the value scale\n",
    "plt.xlabel('epochs')\n",
    "plt.ylabel('sample')\n",
    "plt.title(f'Training, Images vs Features, category: {category}')\n",
    "plt.show()\n"
   ]
  },
  {
   "cell_type": "markdown",
   "metadata": {},
   "source": [
    "### Testset \n"
   ]
  },
  {
   "cell_type": "markdown",
   "metadata": {},
   "source": [
    "#### sample per fmap"
   ]
  },
  {
   "cell_type": "code",
   "execution_count": null,
   "metadata": {},
   "outputs": [],
   "source": [
    "color_map = {\n",
    "    'good': [0, 1, 0],  # Red\n",
    "    'broken_large': [1, 0, 0],  # Green\n",
    "    'broken_small': [0, 0, 1], # Blue\n",
    "    'contamination': [1, 1, 0], # Yellow\n",
    "}\n",
    "\n",
    "anolist=anomaly_categories[category].copy()\n",
    "anolist.append('good')\n",
    "\n",
    "index_dict={}\n",
    "for ano_category in anolist:\n",
    "    index_dict[ano_category] = [index for index, item in enumerate(list(test_scores_individual.keys())  ) if ano_category in item]\n",
    "    \n",
    "color_data = np.zeros((len(test_scores_individual), 5,3))\n",
    "\n",
    "for anocat in anolist:\n",
    "    color_data[index_dict[anocat], :, :] = color_map[anocat]\n",
    "    "
   ]
  },
  {
   "cell_type": "code",
   "execution_count": null,
   "metadata": {},
   "outputs": [],
   "source": [
    "def heatmaps_test_per_epoch(epoch):\n",
    "    firsthmap = []\n",
    "    for key in test_scores_individual.keys():\n",
    "        firsthmap.append(test_scores_individual[key][epoch])\n",
    "\n",
    "    stacked_tensor = torch.stack(firsthmap, dim=0)\n",
    "\n",
    "    # Plotting\n",
    "    fig, axs = plt.subplots(1, 2, figsize=(21, 10), gridspec_kw={'width_ratios': [1, 20]})\n",
    "\n",
    "    # Plot the color plot on the left\n",
    "    axs[0].imshow(color_data, aspect='auto')\n",
    "    \n",
    "    axs[0].axis('off')  # Hide the axis on the color plot\n",
    "\n",
    "    # Plot the heatmap to the right\n",
    "    im = axs[1].imshow(stacked_tensor, aspect='auto', cmap='magma', vmin=0, vmax=0.05)\n",
    "    fig.colorbar(im, ax=axs[1])  # Show the color bar representing the value scale\n",
    "    axs[1].set_xlabel('Fmap')\n",
    "    axs[1].set_title(f'test, Images vs Features: {category}')\n",
    "\n",
    "    plt.tight_layout()\n",
    "    plt.show()\n",
    "widgets.interact(heatmaps_test_per_epoch, epoch=epoch_slider)"
   ]
  },
  {
   "cell_type": "code",
   "execution_count": null,
   "metadata": {},
   "outputs": [],
   "source": [
    "hmap = []\n",
    "for key in test_scores_orig.keys():\n",
    "    if isinstance(test_scores_orig[key], list) and all(isinstance(t, torch.Tensor) for t in test_scores_orig[key]):\n",
    "        tensor = torch.cat([t.unsqueeze(0) for t in test_scores_orig[key]], dim=0)\n",
    "        hmap.append(tensor)\n",
    "    else:\n",
    "        hmap.append(test_scores_orig[key])\n",
    "stacked_tensor = torch.stack(hmap, dim=0)\n",
    "plt.figure(figsize=(20, 10))  # Adjust the figure size as needed\n",
    "plt.imshow(stacked_tensor, aspect='auto', cmap='magma', vmin=0, vmax=0.05)  # Set vmin and vmax for colorbar range\n",
    "plt.colorbar()  # Show the color bar representing the value scale\n",
    "plt.xlabel('epochs')\n",
    "plt.ylabel('sample')\n",
    "plt.title(f'Test, Images vs Epochs, category: {category}')\n",
    "plt.show()\n"
   ]
  },
  {
   "cell_type": "code",
   "execution_count": null,
   "metadata": {},
   "outputs": [],
   "source": [
    "firsthmap = []\n",
    "for key in test_scores_interpolation.keys():\n",
    "    firsthmap.append(test_scores_orig[key][-1])\n",
    "stacked_tensor = torch.stack(firsthmap, dim=0)\n",
    "plt.figure(figsize=(14, 8))\n",
    "for key, indices in index_dict.items():\n",
    "    sns.histplot(stacked_tensor[indices], kde=True, label=key, stat='density',bins=50)\n",
    "plt.legend()\n",
    "plt.title('Histograms with KDEs for Each Category ,last epoch')\n",
    "plt.xlabel('Value')\n",
    "plt.ylabel('Density')\n",
    "plt.show()"
   ]
  },
  {
   "cell_type": "code",
   "execution_count": null,
   "metadata": {},
   "outputs": [],
   "source": [
    "hmap = []\n",
    "for key in test_scores_interpolation.keys():\n",
    "    if isinstance(test_scores_interpolation[key], list) and all(isinstance(t, torch.Tensor) for t in test_scores_interpolation[key]):\n",
    "        tensor = torch.cat([t.unsqueeze(0) for t in test_scores_interpolation[key]], dim=0)\n",
    "        hmap.append(tensor)\n",
    "    else:\n",
    "        hmap.append(test_scores_interpolation[key])\n",
    "stacked_tensor = torch.stack(hmap, dim=0)\n",
    "plt.figure(figsize=(20, 10))  # Adjust the figure size as needed\n",
    "plt.imshow(stacked_tensor, aspect='auto', cmap='magma', vmin=0, vmax=2)  # Set vmin and vmax for colorbar range\n",
    "plt.colorbar()  # Show the color bar representing the value scale\n",
    "plt.xlabel('epochs')\n",
    "plt.ylabel('sample')\n",
    "plt.title(f'Training, Images vs epochs, category: {category}')\n",
    "plt.show()\n"
   ]
  },
  {
   "cell_type": "code",
   "execution_count": null,
   "metadata": {},
   "outputs": [],
   "source": [
    "firsthmap = []\n",
    "for key in test_scores_interpolation.keys():\n",
    "    firsthmap.append(test_scores_interpolation[key][-1])\n",
    "stacked_tensor = torch.stack(firsthmap, dim=0)\n",
    "plt.figure(figsize=(14, 8))\n",
    "for key, indices in index_dict.items():\n",
    "    sns.histplot(stacked_tensor[indices], kde=True, label=key, stat='density',bins=50)\n",
    "plt.legend()\n",
    "plt.title('Histograms with KDEs for Each Category ,last epoch')\n",
    "plt.xlabel('Value')\n",
    "plt.ylabel('Density')\n",
    "plt.show()"
   ]
  },
  {
   "cell_type": "code",
   "execution_count": null,
   "metadata": {},
   "outputs": [],
   "source": [
    "hmap = []\n",
    "for key in test_scores_end.keys():\n",
    "    if isinstance(test_scores_end[key], list) and all(isinstance(t, torch.Tensor) for t in test_scores_end[key]):\n",
    "        tensor = torch.cat([t.unsqueeze(0) for t in test_scores_end[key]], dim=0)\n",
    "        hmap.append(tensor)\n",
    "    else:\n",
    "        hmap.append(test_scores_end[key])\n",
    "stacked_tensor = torch.stack(hmap, dim=0)\n",
    "plt.figure(figsize=(20, 10))  # Adjust the figure size as needed\n",
    "plt.imshow(stacked_tensor, aspect='auto', cmap='magma', vmin=0, vmax=1)  # Set vmin and vmax for colorbar range\n",
    "plt.colorbar()  # Show the color bar representing the value scale\n",
    "plt.xlabel('epochs')\n",
    "plt.ylabel('sample')\n",
    "plt.title(f'Training, Images vs epochs, category: {category}')\n",
    "plt.show()"
   ]
  },
  {
   "cell_type": "code",
   "execution_count": null,
   "metadata": {},
   "outputs": [],
   "source": [
    "firsthmap = []\n",
    "for key in test_scores_end.keys():\n",
    "    firsthmap.append(test_scores_end[key][-1])\n",
    "stacked_tensor = torch.stack(firsthmap, dim=0)\n",
    "plt.figure(figsize=(14, 8))\n",
    "for key, indices in index_dict.items():\n",
    "    sns.histplot(stacked_tensor[indices], kde=True, label=key, stat='density',bins=50)\n",
    "plt.legend()\n",
    "plt.title('Histograms with KDEs for Each Category ,last epoch')\n",
    "plt.xlabel('Value')\n",
    "plt.ylabel('Density')\n",
    "plt.show()"
   ]
  },
  {
   "cell_type": "markdown",
   "metadata": {},
   "source": [
    "## Screw"
   ]
  },
  {
   "cell_type": "code",
   "execution_count": null,
   "metadata": {},
   "outputs": [],
   "source": [
    "# settings for the plots,\n",
    "dataset= 'mvtec'\n",
    "run= \"contamination_0\"  \n",
    "experiment=  \"DEV_refinement_05_04_24_1-\"#,\"Exp0-r18\",\n",
    "category= \"screw\"\n",
    "\n",
    "\n",
    "RESPATH=\"results\"\n",
    "DATASET=os.path.join(RESPATH, dataset)  \n",
    "RUN_PATH= os.path.join(RESPATH, dataset,run)\n",
    "\n",
    "# trainingfmap\n",
    "TRAINSAVE_PATH= os.path.join(RUN_PATH, experiment+ f'{category}', \"trainsave_ind_loss.pth\")\n",
    "train_scores_individual = torch.load(TRAINSAVE_PATH)\n",
    "\n",
    "# training loss\n",
    "TRAINSAVE_1_PATH= os.path.join(RUN_PATH, experiment+ f'{category}', \"trainsave_loss_orig.pth\")\n",
    "train_scores_orig = torch.load(TRAINSAVE_1_PATH)\n",
    "\n",
    "# test fmap\n",
    "TESTSAVE_PATH= os.path.join(RUN_PATH, experiment+ f'{category}', \"testsave_ind_loss.pth\")\n",
    "test_scores_individual = torch.load(TESTSAVE_PATH)\n",
    "\n",
    "# testsave afer interpolation\n",
    "TESTSAVE_2_PATH= os.path.join(RUN_PATH, experiment+ f'{category}', \"testsave_loss_orig.pth\")\n",
    "test_scores_orig = torch.load(TESTSAVE_2_PATH)\n",
    "\n",
    "TESTSAVE_3_PATH = os.path.join(RUN_PATH, experiment+ f'{category}', \"testsave_score_after_interpolation.pth\")\n",
    "test_scores_interpolation = torch.load(TESTSAVE_3_PATH)\n",
    "\n",
    "\n",
    "TESTSAVE_4_PATH = os.path.join(RUN_PATH, experiment+ f'{category}', \"testsave_score_end.pth\")\n",
    "test_scores_end = torch.load(TESTSAVE_4_PATH)"
   ]
  },
  {
   "cell_type": "code",
   "execution_count": null,
   "metadata": {},
   "outputs": [],
   "source": [
    "def heatmaps_per_epoch(epoch):\n",
    "    firsthmap=[]\n",
    "    for key in train_scores_individual.keys():\n",
    "        firsthmap.append(train_scores_individual[key][epoch])\n",
    "        \n",
    "    stacked_tensor = torch.stack(firsthmap, dim=0)\n",
    "    # Plotting the heatmap\n",
    "    plt.figure(figsize=(20, 10))  # Adjust the figure size as needed\n",
    "    plt.imshow(stacked_tensor, aspect='auto', cmap='magma', vmin=0, vmax=0.5)  # Set vmin and vmax for colorbar range\n",
    "    plt.colorbar()  # Show the color bar representing the value scale\n",
    "    plt.xlabel('Fmap')\n",
    "    plt.title('Training, Images vs Features')\n",
    "    plt.show()\n",
    "epoch_slider = widgets.IntSlider(value=0,min=0,max=100-1,step=1,description='Epoch:')\n",
    "widgets.interact(heatmaps_per_epoch, epoch=epoch_slider)"
   ]
  },
  {
   "cell_type": "code",
   "execution_count": null,
   "metadata": {},
   "outputs": [],
   "source": [
    "hmap = []\n",
    "for key in train_scores_orig.keys():\n",
    "    if isinstance(train_scores_orig[key], list) and all(isinstance(t, torch.Tensor) for t in train_scores_orig[key]):\n",
    "        tensor = torch.cat([t.unsqueeze(0) for t in train_scores_orig[key]], dim=0)\n",
    "        hmap.append(tensor)\n",
    "    else:\n",
    "        hmap.append(train_scores_orig[key])\n",
    "stacked_tensor = torch.stack(hmap, dim=0)\n",
    "plt.figure(figsize=(20, 10))  # Adjust the figure size as needed\n",
    "plt.imshow(stacked_tensor, aspect='auto', cmap='magma', vmin=0, vmax=0.1)  # Set vmin and vmax for colorbar range\n",
    "plt.colorbar()  # Show the color bar representing the value scale\n",
    "plt.xlabel('epochs')\n",
    "plt.ylabel('sample')\n",
    "plt.title(f'Training, Images vs Epochs, category: {category}')\n",
    "plt.show()\n"
   ]
  },
  {
   "cell_type": "markdown",
   "metadata": {},
   "source": [
    "### Test"
   ]
  },
  {
   "cell_type": "code",
   "execution_count": null,
   "metadata": {},
   "outputs": [],
   "source": [
    "color_map = {\n",
    "    'good': [0, 1, 0],  # Red\n",
    "    'manipulated_front': [1, 0, 0],  # Green\n",
    "    'scratch_head': [0, 0, 1], # Blue\n",
    "    'scratch_neck': [1, 1, 0], # Yellow\n",
    "    'thread_side': [0, 1, 1],\n",
    "    'thread_top': [1, 0, 1],\n",
    "}\n",
    "\n",
    "anolist=anomaly_categories[category].copy()\n",
    "anolist.append('good')\n",
    "\n",
    "index_dict={}\n",
    "for ano_category in anolist:\n",
    "    index_dict[ano_category] = [index for index, item in enumerate(list(test_scores_individual.keys())  ) if ano_category in item]\n",
    "    \n",
    "color_data = np.zeros((len(test_scores_individual), 5,3))\n",
    "\n",
    "for anocat in anolist:\n",
    "    color_data[index_dict[anocat], :, :] = color_map[anocat]\n",
    "    "
   ]
  },
  {
   "cell_type": "code",
   "execution_count": null,
   "metadata": {},
   "outputs": [],
   "source": [
    "def heatmaps_test_per_epoch(epoch):\n",
    "    firsthmap = []\n",
    "    for key in test_scores_individual.keys():\n",
    "        firsthmap.append(test_scores_individual[key][epoch])\n",
    "\n",
    "    stacked_tensor = torch.stack(firsthmap, dim=0)\n",
    "\n",
    "    # Plotting\n",
    "    fig, axs = plt.subplots(1, 2, figsize=(21, 10), gridspec_kw={'width_ratios': [1, 20]})\n",
    "\n",
    "    # Plot the color plot on the left\n",
    "    axs[0].imshow(color_data, aspect='auto')\n",
    "    \n",
    "    axs[0].axis('off')  # Hide the axis on the color plot\n",
    "\n",
    "    # Plot the heatmap to the right\n",
    "    im = axs[1].imshow(stacked_tensor, aspect='auto', cmap='magma', vmin=0, vmax=0.03)\n",
    "    fig.colorbar(im, ax=axs[1])  # Show the color bar representing the value scale\n",
    "    axs[1].set_xlabel('Fmap')\n",
    "    axs[1].set_title(f'test, Images vs Features: {category}')\n",
    "\n",
    "    plt.tight_layout()\n",
    "    plt.show()\n",
    "widgets.interact(heatmaps_test_per_epoch, epoch=epoch_slider)"
   ]
  },
  {
   "cell_type": "markdown",
   "metadata": {},
   "source": [
    "#### only loss"
   ]
  },
  {
   "cell_type": "code",
   "execution_count": null,
   "metadata": {},
   "outputs": [],
   "source": [
    "hmap = []\n",
    "for key in test_scores_orig.keys():\n",
    "    if isinstance(test_scores_orig[key], list) and all(isinstance(t, torch.Tensor) for t in test_scores_orig[key]):\n",
    "        tensor = torch.cat([t.unsqueeze(0) for t in test_scores_orig[key]], dim=0)\n",
    "        hmap.append(tensor)\n",
    "    else:\n",
    "        hmap.append(test_scores_orig[key])\n",
    "stacked_tensor = torch.stack(hmap, dim=0)\n",
    "plt.figure(figsize=(20, 10))  # Adjust the figure size as needed\n",
    "plt.imshow(stacked_tensor, aspect='auto', cmap='magma', vmin=0, vmax=0.05)  # Set vmin and vmax for colorbar range\n",
    "plt.colorbar()  # Show the color bar representing the value scale\n",
    "plt.xlabel('epochs')\n",
    "plt.ylabel('sample')\n",
    "plt.title(f'test, Images vs epochs, category: {category}')\n",
    "plt.show()\n"
   ]
  },
  {
   "cell_type": "code",
   "execution_count": null,
   "metadata": {},
   "outputs": [],
   "source": [
    "firsthmap = []\n",
    "for key in test_scores_orig.keys():\n",
    "    firsthmap.append(test_scores_orig[key][-1])\n",
    "stacked_tensor = torch.stack(firsthmap, dim=0)\n",
    "plt.figure(figsize=(14, 8))\n",
    "for key, indices in index_dict.items():\n",
    "    sns.histplot(stacked_tensor[indices], kde=True, label=key, stat='density',bins=50)\n",
    "plt.legend()\n",
    "plt.title('Histograms with KDEs for Each Category ,last epoch')\n",
    "plt.xlabel('Value')\n",
    "plt.ylabel('Density')\n",
    "plt.show()"
   ]
  },
  {
   "cell_type": "code",
   "execution_count": null,
   "metadata": {},
   "outputs": [],
   "source": [
    "true_classes = np.array([0] * 41 + [1] * 119)\n",
    "predicted_probs = stacked_tensor.flatten().numpy()\n",
    "plot_curves_with_metrics(true_classes, predicted_probs)\n"
   ]
  },
  {
   "cell_type": "markdown",
   "metadata": {},
   "source": [
    "#### Reconstruction with postprocessing"
   ]
  },
  {
   "cell_type": "code",
   "execution_count": null,
   "metadata": {},
   "outputs": [],
   "source": [
    "hmap = []\n",
    "for key in test_scores_interpolation.keys():\n",
    "    if isinstance(test_scores_interpolation[key], list) and all(isinstance(t, torch.Tensor) for t in test_scores_interpolation[key]):\n",
    "        tensor = torch.cat([t.unsqueeze(0) for t in test_scores_interpolation[key]], dim=0)\n",
    "        hmap.append(tensor)\n",
    "    else:\n",
    "        hmap.append(test_scores_interpolation[key])\n",
    "stacked_tensor = torch.stack(hmap, dim=0)\n",
    "plt.figure(figsize=(20, 10))  # Adjust the figure size as needed\n",
    "plt.imshow(stacked_tensor, aspect='auto', cmap='magma', vmin=0, vmax=100_000)  # Set vmin and vmax for colorbar range\n",
    "plt.colorbar()  # Show the color bar representing the value scale\n",
    "plt.xlabel('epochs')\n",
    "plt.ylabel('sample')\n",
    "plt.title(f'Training, Images vs epochs, category: {category}')\n",
    "plt.show()\n"
   ]
  },
  {
   "cell_type": "code",
   "execution_count": null,
   "metadata": {},
   "outputs": [],
   "source": [
    "firsthmap = []\n",
    "for key in test_scores_interpolation.keys():\n",
    "    firsthmap.append(test_scores_interpolation[key][-1])\n",
    "stacked_tensor = torch.stack(firsthmap, dim=0)\n",
    "plt.figure(figsize=(14, 8))\n",
    "for key, indices in index_dict.items():\n",
    "    sns.histplot(stacked_tensor[indices], kde=True, label=key, stat='density',bins=50)\n",
    "plt.legend()\n",
    "plt.title('Histograms with KDEs for Each Category ,last epoch')\n",
    "plt.xlabel('Value')\n",
    "plt.ylabel('Density')\n",
    "plt.show()"
   ]
  },
  {
   "cell_type": "code",
   "execution_count": null,
   "metadata": {},
   "outputs": [],
   "source": [
    "true_classes = np.array([0] * 41 + [1] * 119)\n",
    "predicted_probs = stacked_tensor.flatten().numpy()\n",
    "plot_curves_with_metrics(true_classes, predicted_probs)\n"
   ]
  },
  {
   "cell_type": "markdown",
   "metadata": {},
   "source": [
    "#### Reconstruction with postprocessing scaled"
   ]
  },
  {
   "cell_type": "code",
   "execution_count": null,
   "metadata": {},
   "outputs": [],
   "source": [
    "hmap = []\n",
    "for key in test_scores_end.keys():\n",
    "    if isinstance(test_scores_end[key], list) and all(isinstance(t, torch.Tensor) for t in test_scores_end[key]):\n",
    "        tensor = torch.cat([t.unsqueeze(0) for t in test_scores_end[key]], dim=0)\n",
    "        hmap.append(tensor)\n",
    "    else:\n",
    "        hmap.append(test_scores_end[key])\n",
    "stacked_tensor = torch.stack(hmap, dim=0)\n",
    "plt.figure(figsize=(20, 10))  # Adjust the figure size as needed\n",
    "plt.imshow(stacked_tensor, aspect='auto', cmap='magma', vmin=0, vmax=1)  # Set vmin and vmax for colorbar range\n",
    "plt.colorbar()  # Show the color bar representing the value scale\n",
    "plt.xlabel('epochs')\n",
    "plt.ylabel('sample')\n",
    "plt.title(f'Training, Images vs epochs, category: {category}')\n",
    "plt.show()\n"
   ]
  },
  {
   "cell_type": "code",
   "execution_count": null,
   "metadata": {},
   "outputs": [],
   "source": [
    "firsthmap = []\n",
    "for key in test_scores_end.keys():\n",
    "    firsthmap.append(test_scores_end[key][-1])\n",
    "stacked_tensor = torch.stack(firsthmap, dim=0)\n",
    "plt.figure(figsize=(14, 8))\n",
    "for key, indices in index_dict.items():\n",
    "    sns.histplot(stacked_tensor[indices], kde=True, label=key, stat='density',bins=50)\n",
    "plt.legend()\n",
    "plt.title('Histograms with KDEs for Each Category ,last epoch')\n",
    "plt.xlabel('Value')\n",
    "plt.ylabel('Density')\n",
    "plt.show()"
   ]
  },
  {
   "cell_type": "code",
   "execution_count": null,
   "metadata": {},
   "outputs": [],
   "source": [
    "true_classes = np.array([0] * 41 + [1] * 119)\n",
    "predicted_probs = stacked_tensor.flatten().numpy()\n",
    "plot_curves_with_metrics(true_classes, predicted_probs)\n"
   ]
  },
  {
   "cell_type": "markdown",
   "metadata": {},
   "source": [
    "# Contaminated"
   ]
  },
  {
   "cell_type": "markdown",
   "metadata": {},
   "source": [
    "## Screw"
   ]
  },
  {
   "cell_type": "code",
   "execution_count": null,
   "metadata": {},
   "outputs": [],
   "source": [
    "# settings for the plots,\n",
    "dataset= 'mvtec'\n",
    "run= \"contamination_10\"  \n",
    "experiment=  \"DEV_refinement_11_04_24_1-\"#,\"Exp0-r18\",\n",
    "category= \"screw\"\n",
    "\n",
    "\n",
    "RESPATH=\"results\"\n",
    "DATASET=os.path.join(RESPATH, dataset)  \n",
    "RUN_PATH= os.path.join(RESPATH, dataset,run)\n",
    "\n",
    "# trainingfmap\n",
    "TRAINSAVE_PATH= os.path.join(RUN_PATH, experiment+ f'{category}', \"trainsave_ind_loss.pth\")\n",
    "train_scores_individual = torch.load(TRAINSAVE_PATH)\n",
    "\n",
    "# training loss\n",
    "TRAINSAVE_1_PATH= os.path.join(RUN_PATH, experiment+ f'{category}', \"trainsave_loss_orig.pth\")\n",
    "train_scores_orig = torch.load(TRAINSAVE_1_PATH)\n",
    "\n",
    "# test fmap\n",
    "TESTSAVE_PATH= os.path.join(RUN_PATH, experiment+ f'{category}', \"testsave_ind_loss.pth\")\n",
    "test_scores_individual = torch.load(TESTSAVE_PATH)\n",
    "\n",
    "# testsave afer interpolation\n",
    "TESTSAVE_2_PATH= os.path.join(RUN_PATH, experiment+ f'{category}', \"testsave_loss_orig.pth\")\n",
    "test_scores_orig = torch.load(TESTSAVE_2_PATH)\n",
    "\n",
    "TESTSAVE_3_PATH = os.path.join(RUN_PATH, experiment+ f'{category}', \"testsave_score_after_interpolation.pth\")\n",
    "test_scores_interpolation = torch.load(TESTSAVE_3_PATH)\n",
    "\n",
    "\n",
    "TESTSAVE_4_PATH = os.path.join(RUN_PATH, experiment+ f'{category}', \"testsave_score_end.pth\")\n",
    "test_scores_end = torch.load(TESTSAVE_4_PATH)"
   ]
  },
  {
   "cell_type": "code",
   "execution_count": null,
   "metadata": {},
   "outputs": [],
   "source": [
    "def heatmaps_per_epoch(epoch):\n",
    "    firsthmap=[]\n",
    "    for key in train_scores_individual.keys():\n",
    "        firsthmap.append(train_scores_individual[key][epoch])\n",
    "        \n",
    "    stacked_tensor = torch.stack(firsthmap, dim=0)\n",
    "    # Plotting the heatmap\n",
    "    plt.figure(figsize=(20, 10))  # Adjust the figure size as needed\n",
    "    plt.imshow(stacked_tensor, aspect='auto', cmap='magma', vmin=0, vmax=0.5)  # Set vmin and vmax for colorbar range\n",
    "    plt.colorbar()  # Show the color bar representing the value scale\n",
    "    plt.xlabel('Fmap')\n",
    "    plt.title('Training, Images vs Features')\n",
    "    plt.show()\n",
    "epoch_slider = widgets.IntSlider(value=0,min=0,max=100-1,step=1,description='Epoch:')\n",
    "widgets.interact(heatmaps_per_epoch, epoch=epoch_slider)"
   ]
  },
  {
   "cell_type": "code",
   "execution_count": null,
   "metadata": {},
   "outputs": [],
   "source": [
    "hmap = []\n",
    "for key in train_scores_orig.keys():\n",
    "    if isinstance(train_scores_orig[key], list) and all(isinstance(t, torch.Tensor) for t in train_scores_orig[key]):\n",
    "        tensor = torch.cat([t.unsqueeze(0) for t in train_scores_orig[key]], dim=0)\n",
    "        hmap.append(tensor)\n",
    "    else:\n",
    "        hmap.append(train_scores_orig[key])\n",
    "stacked_tensor = torch.stack(hmap, dim=0)\n",
    "plt.figure(figsize=(20, 10))  # Adjust the figure size as needed\n",
    "plt.imshow(stacked_tensor, aspect='auto', cmap='magma', vmin=0, vmax=0.1)  # Set vmin and vmax for colorbar range\n",
    "plt.colorbar()  # Show the color bar representing the value scale\n",
    "plt.xlabel('epochs')\n",
    "plt.ylabel('sample')\n",
    "plt.title(f'Training, Images vs Epochs, category: {category}')\n",
    "plt.show()\n"
   ]
  },
  {
   "cell_type": "markdown",
   "metadata": {},
   "source": [
    "### Test"
   ]
  },
  {
   "cell_type": "code",
   "execution_count": null,
   "metadata": {},
   "outputs": [],
   "source": [
    "color_map = {\n",
    "    'good': [0, 1, 0],  # Red\n",
    "    'manipulated_front': [1, 0, 0],  # Green\n",
    "    'scratch_head': [0, 0, 1], # Blue\n",
    "    'scratch_neck': [1, 1, 0], # Yellow\n",
    "    'thread_side': [0, 1, 1],\n",
    "    'thread_top': [1, 0, 1],\n",
    "}\n",
    "\n",
    "anolist=anomaly_categories[category].copy()\n",
    "anolist.append('good')\n",
    "\n",
    "index_dict={}\n",
    "for ano_category in anolist:\n",
    "    index_dict[ano_category] = [index for index, item in enumerate(list(test_scores_individual.keys())  ) if ano_category in item]\n",
    "    \n",
    "color_data = np.zeros((len(test_scores_individual), 5,3))\n",
    "\n",
    "for anocat in anolist:\n",
    "    color_data[index_dict[anocat], :, :] = color_map[anocat]\n",
    "    \n",
    "true_classes = np.array([0] * 41 + [1] * 89)\n",
    "\n",
    "def heatmaps_test_per_epoch(epoch):\n",
    "    firsthmap = []\n",
    "    for key in test_scores_individual.keys():\n",
    "        firsthmap.append(test_scores_individual[key][epoch])\n",
    "\n",
    "    stacked_tensor = torch.stack(firsthmap, dim=0)\n",
    "\n",
    "    # Plotting\n",
    "    fig, axs = plt.subplots(1, 2, figsize=(21, 10), gridspec_kw={'width_ratios': [1, 20]})\n",
    "\n",
    "    # Plot the color plot on the left\n",
    "    axs[0].imshow(color_data, aspect='auto')\n",
    "    \n",
    "    axs[0].axis('off')  # Hide the axis on the color plot\n",
    "\n",
    "    # Plot the heatmap to the right\n",
    "    im = axs[1].imshow(stacked_tensor, aspect='auto', cmap='magma', vmin=0, vmax=0.03)\n",
    "    fig.colorbar(im, ax=axs[1])  # Show the color bar representing the value scale\n",
    "    axs[1].set_xlabel('Fmap')\n",
    "    axs[1].set_title(f'test, Images vs Features: {category}')\n",
    "\n",
    "    plt.tight_layout()\n",
    "    plt.show()\n",
    "widgets.interact(heatmaps_test_per_epoch, epoch=epoch_slider)"
   ]
  },
  {
   "cell_type": "markdown",
   "metadata": {},
   "source": [
    "#### only loss"
   ]
  },
  {
   "cell_type": "code",
   "execution_count": null,
   "metadata": {},
   "outputs": [],
   "source": [
    "hmap = []\n",
    "for key in test_scores_orig.keys():\n",
    "    if isinstance(test_scores_orig[key], list) and all(isinstance(t, torch.Tensor) for t in test_scores_orig[key]):\n",
    "        tensor = torch.cat([t.unsqueeze(0) for t in test_scores_orig[key]], dim=0)\n",
    "        hmap.append(tensor)\n",
    "    else:\n",
    "        hmap.append(test_scores_orig[key])\n",
    "stacked_tensor = torch.stack(hmap, dim=0)\n",
    "plt.figure(figsize=(20, 10))  # Adjust the figure size as needed\n",
    "plt.imshow(stacked_tensor, aspect='auto', cmap='magma', vmin=0, vmax=0.05)  # Set vmin and vmax for colorbar range\n",
    "plt.colorbar()  # Show the color bar representing the value scale\n",
    "plt.xlabel('epochs')\n",
    "plt.ylabel('sample')\n",
    "plt.title(f'test, Images vs epochs, category: {category}')\n",
    "plt.show()\n",
    "\n",
    "firsthmap = []\n",
    "for key in test_scores_orig.keys():\n",
    "    firsthmap.append(test_scores_orig[key][-1])\n",
    "stacked_tensor = torch.stack(firsthmap, dim=0)\n",
    "plt.figure(figsize=(14, 8))\n",
    "for key, indices in index_dict.items():\n",
    "    sns.histplot(stacked_tensor[indices], kde=True, label=key, stat='density',bins=50)\n",
    "plt.legend()\n",
    "plt.title('Histograms with KDEs for Each Category ,last epoch')\n",
    "plt.xlabel('Value')\n",
    "plt.ylabel('Density')\n",
    "plt.show()\n",
    "\n",
    "predicted_probs = stacked_tensor.flatten().numpy()\n",
    "plot_curves_with_metrics(true_classes, predicted_probs)"
   ]
  },
  {
   "cell_type": "markdown",
   "metadata": {},
   "source": [
    "#### Reconstruction with postprocessing"
   ]
  },
  {
   "cell_type": "code",
   "execution_count": null,
   "metadata": {},
   "outputs": [],
   "source": [
    "hmap = []\n",
    "for key in test_scores_interpolation.keys():\n",
    "    if isinstance(test_scores_interpolation[key], list) and all(isinstance(t, torch.Tensor) for t in test_scores_interpolation[key]):\n",
    "        tensor = torch.cat([t.unsqueeze(0) for t in test_scores_interpolation[key]], dim=0)\n",
    "        hmap.append(tensor)\n",
    "    else:\n",
    "        hmap.append(test_scores_interpolation[key])\n",
    "stacked_tensor = torch.stack(hmap, dim=0)\n",
    "plt.figure(figsize=(20, 10))  # Adjust the figure size as needed\n",
    "plt.imshow(stacked_tensor, aspect='auto', cmap='magma', vmin=0, vmax=100_000)  # Set vmin and vmax for colorbar range\n",
    "plt.colorbar()  # Show the color bar representing the value scale\n",
    "plt.xlabel('epochs')\n",
    "plt.ylabel('sample')\n",
    "plt.title(f'Training, Images vs epochs, category: {category}')\n",
    "plt.show()\n",
    "\n",
    "firsthmap = []\n",
    "for key in test_scores_interpolation.keys():\n",
    "    firsthmap.append(test_scores_interpolation[key][-1])\n",
    "stacked_tensor = torch.stack(firsthmap, dim=0)\n",
    "plt.figure(figsize=(14, 8))\n",
    "for key, indices in index_dict.items():\n",
    "    sns.histplot(stacked_tensor[indices], kde=True, label=key, stat='density',bins=50)\n",
    "plt.legend()\n",
    "plt.title('Histograms with KDEs for Each Category ,last epoch')\n",
    "plt.xlabel('Value')\n",
    "plt.ylabel('Density')\n",
    "plt.show()\n",
    "\n",
    "predicted_probs = stacked_tensor.flatten().numpy()\n",
    "plot_curves_with_metrics(true_classes, predicted_probs)"
   ]
  },
  {
   "cell_type": "markdown",
   "metadata": {},
   "source": [
    "#### Reconstruction with postprocessing scaled"
   ]
  },
  {
   "cell_type": "code",
   "execution_count": null,
   "metadata": {},
   "outputs": [],
   "source": [
    "hmap = []\n",
    "for key in test_scores_end.keys():\n",
    "    if isinstance(test_scores_end[key], list) and all(isinstance(t, torch.Tensor) for t in test_scores_end[key]):\n",
    "        tensor = torch.cat([t.unsqueeze(0) for t in test_scores_end[key]], dim=0)\n",
    "        hmap.append(tensor)\n",
    "    else:\n",
    "        hmap.append(test_scores_end[key])\n",
    "stacked_tensor = torch.stack(hmap, dim=0)\n",
    "plt.figure(figsize=(20, 10))  # Adjust the figure size as needed\n",
    "plt.imshow(stacked_tensor, aspect='auto', cmap='magma', vmin=0, vmax=1)  # Set vmin and vmax for colorbar range\n",
    "plt.colorbar()  # Show the color bar representing the value scale\n",
    "plt.xlabel('epochs')\n",
    "plt.ylabel('sample')\n",
    "plt.title(f'test, Images vs epochs, category: {category}')\n",
    "plt.show()\n",
    "\n",
    "firsthmap = []\n",
    "for key in test_scores_end.keys():\n",
    "    firsthmap.append(test_scores_end[key][-1])\n",
    "stacked_tensor = torch.stack(firsthmap, dim=0)\n",
    "plt.figure(figsize=(14, 8))\n",
    "for key, indices in index_dict.items():\n",
    "    sns.histplot(stacked_tensor[indices], kde=True, label=key, stat='density',bins=50)\n",
    "plt.legend()\n",
    "plt.title('Histograms with KDEs for Each Category ,last epoch')\n",
    "plt.xlabel('Value')\n",
    "plt.ylabel('Density')\n",
    "plt.show()\n",
    "\n",
    "predicted_probs = stacked_tensor.flatten().numpy()\n",
    "plot_curves_with_metrics(true_classes, predicted_probs)"
   ]
  }
 ],
 "metadata": {
  "kernelspec": {
   "display_name": "ultrad",
   "language": "python",
   "name": "python3"
  },
  "language_info": {
   "codemirror_mode": {
    "name": "ipython",
    "version": 3
   },
   "file_extension": ".py",
   "mimetype": "text/x-python",
   "name": "python",
   "nbconvert_exporter": "python",
   "pygments_lexer": "ipython3",
   "version": "3.9.undefined"
  }
 },
 "nbformat": 4,
 "nbformat_minor": 2
}
