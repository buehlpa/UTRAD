{
 "cells": [
  {
   "cell_type": "markdown",
   "metadata": {},
   "source": [
    "# Individual Contributions of each Fmap to Loss"
   ]
  },
  {
   "cell_type": "code",
   "execution_count": 1,
   "metadata": {},
   "outputs": [],
   "source": [
    "from utils.results import *\n",
    "import torch\n",
    "import matplotlib.pyplot as plt\n",
    "import matplotlib.pyplot as plt\n",
    "import torch\n",
    "import ipywidgets as widgets"
   ]
  },
  {
   "cell_type": "code",
   "execution_count": 2,
   "metadata": {},
   "outputs": [],
   "source": [
    "anomaly_categories = {\n",
    "    'bottle': ['broken_large', 'broken_small', 'contamination'],\n",
    "    'cable': ['bent_wire', 'cable_swap', 'combined', 'cut_inner_insulation', 'cut_outer_insulation', 'missing_cable', 'missing_wire', 'poke_insulation'],\n",
    "    'capsule': ['crack', 'faulty_imprint', 'poke', 'scratch','squeeze'],\n",
    "    'carpet': ['color', 'cut', 'hole', 'metal_contamination', 'thread'],\n",
    "    'grid': ['bent', 'broken', 'glue', 'metal_contamination', 'thread'],\n",
    "    'hazelnut': ['crack', 'cut', 'hole', 'print'],\n",
    "    'leather': ['color', 'cut', 'fold', 'glue', 'poke'],\n",
    "    'metal_nut': ['bent', 'color', 'flip', 'scratch'],\n",
    "    'pill': ['color', 'combined','contamination', 'crack', 'faulty_imprint', 'pill_type','scratch'],\n",
    "    'screw': ['manipulated_front', 'scratch_head', 'scratch_neck','thread_side', 'thread_top'],\n",
    "    'tile': ['crack', 'glue_strip', 'gray_stroke', 'oil','rough'],\n",
    "    'toothbrush': ['defective'],\n",
    "    'transistor': ['bent_lead', 'cut_lead', 'damaged_case', 'misplaced'],\n",
    "    'wood': ['color', 'combined', 'hole', 'liquid', 'scratch'],\n",
    "    'zipper': ['broken_teeth', 'combined','fabric_border', 'fabric_interior','split_teeth','rough', 'squeezed_teeth']\n",
    "}"
   ]
  },
  {
   "cell_type": "markdown",
   "metadata": {},
   "source": [
    "## Bottle"
   ]
  },
  {
   "cell_type": "code",
   "execution_count": 11,
   "metadata": {},
   "outputs": [],
   "source": [
    "\n",
    "# settings for the plots,\n",
    "dataset= 'mvtec'\n",
    "run= \"contamination_0\"  \n",
    "experiment=  \"DEV_refinement_15_03_24_2-\"#,\"Exp0-r18\",\n",
    "category= \"bottle\"\n",
    "\n",
    "\n",
    "RESPATH=\"results\"\n",
    "DATASET=os.path.join(RESPATH, dataset)  \n",
    "RUN_PATH= os.path.join(RESPATH, dataset,run)\n",
    "\n",
    "# trainingfmap\n",
    "TRAINSAVE_PATH= os.path.join(RUN_PATH, experiment+ f'{category}', \"trainsave.pth\")\n",
    "loaded_data_dict = torch.load(TRAINSAVE_PATH)\n",
    "\n",
    "# test fmap\n",
    "TESTSAVE_PATH= os.path.join(RUN_PATH, experiment+ f'{category}', \"testsave.pth\")\n",
    "loaded_data_dict2 = torch.load(TESTSAVE_PATH)"
   ]
  },
  {
   "cell_type": "markdown",
   "metadata": {},
   "source": [
    "trainset"
   ]
  },
  {
   "cell_type": "code",
   "execution_count": 12,
   "metadata": {},
   "outputs": [
    {
     "data": {
      "application/vnd.jupyter.widget-view+json": {
       "model_id": "6acb47d7a7154bbb9de2e9dbc826499d",
       "version_major": 2,
       "version_minor": 0
      },
      "text/plain": [
       "interactive(children=(IntSlider(value=0, description='Epoch:', max=49), Output()), _dom_classes=('widget-inter…"
      ]
     },
     "metadata": {},
     "output_type": "display_data"
    },
    {
     "data": {
      "text/plain": [
       "<function __main__.heatmaps_per_epoch(epoch)>"
      ]
     },
     "execution_count": 12,
     "metadata": {},
     "output_type": "execute_result"
    }
   ],
   "source": [
    "def heatmaps_per_epoch(epoch):\n",
    "    firsthmap=[]\n",
    "    for key in loaded_data_dict.keys():\n",
    "        firsthmap.append(loaded_data_dict[key][epoch])\n",
    "        \n",
    "    stacked_tensor = torch.stack(firsthmap, dim=0)\n",
    "    # Plotting the heatmap\n",
    "    plt.figure(figsize=(20, 10))  # Adjust the figure size as needed\n",
    "    plt.imshow(stacked_tensor, aspect='auto', cmap='magma', vmin=0, vmax=0.5)  # Set vmin and vmax for colorbar range\n",
    "    plt.colorbar()  # Show the color bar representing the value scale\n",
    "    plt.xlabel('Fmap')\n",
    "    plt.title('Training, Images vs Features')\n",
    "    plt.show()\n",
    "epoch_slider = widgets.IntSlider(value=0,min=0,max=50-1,step=1,description='Epoch:')\n",
    "widgets.interact(heatmaps_per_epoch, epoch=epoch_slider)"
   ]
  },
  {
   "cell_type": "markdown",
   "metadata": {},
   "source": [
    "testset"
   ]
  },
  {
   "cell_type": "code",
   "execution_count": 13,
   "metadata": {},
   "outputs": [],
   "source": [
    "color_map = {\n",
    "    'good': [0, 1, 0],  # Red\n",
    "    'broken_large': [1, 0, 0],  # Green\n",
    "    'broken_small': [0, 0, 1], # Blue\n",
    "    'contamination': [1, 1, 0], # Yellow\n",
    "}\n",
    "\n",
    "anolist=anomaly_categories[category].copy()\n",
    "anolist.append('good')\n",
    "\n",
    "index_dict={}\n",
    "for ano_category in anolist:\n",
    "    index_dict[ano_category] = [index for index, item in enumerate(list(loaded_data_dict2.keys())  ) if ano_category in item]\n",
    "    \n",
    "index_dict   \n",
    "\n",
    "color_data = np.zeros((len(loaded_data_dict2), 5,3))\n",
    "\n",
    "for anocat in anolist:\n",
    "    color_data[index_dict[anocat], :, :] = color_map[anocat]\n",
    "    "
   ]
  },
  {
   "cell_type": "code",
   "execution_count": 14,
   "metadata": {},
   "outputs": [
    {
     "data": {
      "application/vnd.jupyter.widget-view+json": {
       "model_id": "9cc46a6228c2419792d3439f82009379",
       "version_major": 2,
       "version_minor": 0
      },
      "text/plain": [
       "interactive(children=(IntSlider(value=49, description='Epoch:', max=49), Output()), _dom_classes=('widget-inte…"
      ]
     },
     "metadata": {},
     "output_type": "display_data"
    },
    {
     "data": {
      "text/plain": [
       "<function __main__.heatmaps_test_per_epoch(epoch)>"
      ]
     },
     "execution_count": 14,
     "metadata": {},
     "output_type": "execute_result"
    }
   ],
   "source": [
    "def heatmaps_test_per_epoch(epoch):\n",
    "    firsthmap = []\n",
    "    for key in loaded_data_dict2.keys():\n",
    "        firsthmap.append(loaded_data_dict2[key][epoch])\n",
    "\n",
    "    stacked_tensor = torch.stack(firsthmap, dim=0)\n",
    "\n",
    "    # Plotting\n",
    "    fig, axs = plt.subplots(1, 2, figsize=(21, 10), gridspec_kw={'width_ratios': [1, 20]})\n",
    "\n",
    "    # Plot the color plot on the left\n",
    "    axs[0].imshow(color_data, aspect='auto')\n",
    "    \n",
    "    axs[0].axis('off')  # Hide the axis on the color plot\n",
    "\n",
    "    # Plot the heatmap to the right\n",
    "    im = axs[1].imshow(stacked_tensor, aspect='auto', cmap='magma', vmin=0, vmax=0.05)\n",
    "    fig.colorbar(im, ax=axs[1])  # Show the color bar representing the value scale\n",
    "    axs[1].set_xlabel('Fmap')\n",
    "    axs[1].set_title(f'test, Images vs Features: {category}')\n",
    "\n",
    "    plt.tight_layout()\n",
    "    plt.show()\n",
    "widgets.interact(heatmaps_test_per_epoch, epoch=epoch_slider)"
   ]
  },
  {
   "cell_type": "markdown",
   "metadata": {},
   "source": [
    "## screw"
   ]
  },
  {
   "cell_type": "code",
   "execution_count": 15,
   "metadata": {},
   "outputs": [],
   "source": [
    "\n",
    "# settings for the plots,\n",
    "dataset= 'mvtec'\n",
    "run= \"contamination_0\"  \n",
    "experiment=  \"DEV_refinement_15_03_24_2-\"#,\"Exp0-r18\",\n",
    "category= \"screw\"\n",
    "\n",
    "\n",
    "RESPATH=\"results\"\n",
    "DATASET=os.path.join(RESPATH, dataset)  \n",
    "RUN_PATH= os.path.join(RESPATH, dataset,run)\n",
    "\n",
    "# trainingfmap\n",
    "TRAINSAVE_PATH= os.path.join(RUN_PATH, experiment+ f'{category}', \"trainsave.pth\")\n",
    "loaded_data_dict = torch.load(TRAINSAVE_PATH)\n",
    "\n",
    "# test fmap\n",
    "TESTSAVE_PATH= os.path.join(RUN_PATH, experiment+ f'{category}', \"testsave.pth\")\n",
    "loaded_data_dict2 = torch.load(TESTSAVE_PATH)"
   ]
  },
  {
   "cell_type": "code",
   "execution_count": 16,
   "metadata": {},
   "outputs": [
    {
     "data": {
      "application/vnd.jupyter.widget-view+json": {
       "model_id": "b3d356d3ae03461186b3961f48944435",
       "version_major": 2,
       "version_minor": 0
      },
      "text/plain": [
       "interactive(children=(IntSlider(value=0, description='Epoch:', max=99), Output()), _dom_classes=('widget-inter…"
      ]
     },
     "metadata": {},
     "output_type": "display_data"
    },
    {
     "data": {
      "text/plain": [
       "<function __main__.heatmaps_per_epoch(epoch)>"
      ]
     },
     "execution_count": 16,
     "metadata": {},
     "output_type": "execute_result"
    }
   ],
   "source": [
    "def heatmaps_per_epoch(epoch):\n",
    "    firsthmap=[]\n",
    "    for key in loaded_data_dict.keys():\n",
    "        firsthmap.append(loaded_data_dict[key][epoch])\n",
    "        \n",
    "    stacked_tensor = torch.stack(firsthmap, dim=0)\n",
    "    # Plotting the heatmap\n",
    "    plt.figure(figsize=(20, 10))  # Adjust the figure size as needed\n",
    "    plt.imshow(stacked_tensor, aspect='auto', cmap='magma', vmin=0, vmax=0.5)  # Set vmin and vmax for colorbar range\n",
    "    plt.colorbar()  # Show the color bar representing the value scale\n",
    "    plt.xlabel('Fmap')\n",
    "    plt.title('Training, Images vs Features')\n",
    "    plt.show()\n",
    "epoch_slider = widgets.IntSlider(value=0,min=0,max=100-1,step=1,description='Epoch:')\n",
    "widgets.interact(heatmaps_per_epoch, epoch=epoch_slider)"
   ]
  },
  {
   "cell_type": "code",
   "execution_count": 17,
   "metadata": {},
   "outputs": [],
   "source": [
    "color_map = {\n",
    "    'good': [0, 1, 0],  # Red\n",
    "    'manipulated_front': [1, 0, 0],  # Green\n",
    "    'scratch_head': [0, 0, 1], # Blue\n",
    "    'scratch_neck': [1, 1, 0], # Yellow\n",
    "    'thread_side': [0, 1, 1],\n",
    "    'thread_top': [1, 0, 1],\n",
    "}\n",
    "\n",
    "anolist=anomaly_categories[category].copy()\n",
    "anolist.append('good')\n",
    "\n",
    "index_dict={}\n",
    "for ano_category in anolist:\n",
    "    index_dict[ano_category] = [index for index, item in enumerate(list(loaded_data_dict2.keys())  ) if ano_category in item]\n",
    "    \n",
    "index_dict   \n",
    "\n",
    "color_data = np.zeros((len(loaded_data_dict2), 5,3))\n",
    "\n",
    "for anocat in anolist:\n",
    "    color_data[index_dict[anocat], :, :] = color_map[anocat]\n",
    "    "
   ]
  },
  {
   "cell_type": "code",
   "execution_count": 18,
   "metadata": {},
   "outputs": [
    {
     "data": {
      "application/vnd.jupyter.widget-view+json": {
       "model_id": "40c9a2b76e224be68eb392b11d964f23",
       "version_major": 2,
       "version_minor": 0
      },
      "text/plain": [
       "interactive(children=(IntSlider(value=12, description='Epoch:', max=99), Output()), _dom_classes=('widget-inte…"
      ]
     },
     "metadata": {},
     "output_type": "display_data"
    },
    {
     "data": {
      "text/plain": [
       "<function __main__.heatmaps_test_per_epoch(epoch)>"
      ]
     },
     "execution_count": 18,
     "metadata": {},
     "output_type": "execute_result"
    }
   ],
   "source": [
    "def heatmaps_test_per_epoch(epoch):\n",
    "    firsthmap = []\n",
    "    for key in loaded_data_dict2.keys():\n",
    "        firsthmap.append(loaded_data_dict2[key][epoch])\n",
    "\n",
    "    stacked_tensor = torch.stack(firsthmap, dim=0)\n",
    "\n",
    "    # Plotting\n",
    "    fig, axs = plt.subplots(1, 2, figsize=(21, 10), gridspec_kw={'width_ratios': [1, 20]})\n",
    "\n",
    "    # Plot the color plot on the left\n",
    "    axs[0].imshow(color_data, aspect='auto')\n",
    "    \n",
    "    axs[0].axis('off')  # Hide the axis on the color plot\n",
    "\n",
    "    # Plot the heatmap to the right\n",
    "    im = axs[1].imshow(stacked_tensor, aspect='auto', cmap='magma', vmin=0, vmax=0.03)\n",
    "    fig.colorbar(im, ax=axs[1])  # Show the color bar representing the value scale\n",
    "    axs[1].set_xlabel('Fmap')\n",
    "    axs[1].set_title(f'test, Images vs Features: {category}')\n",
    "\n",
    "    plt.tight_layout()\n",
    "    plt.show()\n",
    "widgets.interact(heatmaps_test_per_epoch, epoch=epoch_slider)"
   ]
  }
 ],
 "metadata": {
  "kernelspec": {
   "display_name": "ultrad",
   "language": "python",
   "name": "python3"
  },
  "language_info": {
   "codemirror_mode": {
    "name": "ipython",
    "version": 3
   },
   "file_extension": ".py",
   "mimetype": "text/x-python",
   "name": "python",
   "nbconvert_exporter": "python",
   "pygments_lexer": "ipython3",
   "version": "3.9.18"
  }
 },
 "nbformat": 4,
 "nbformat_minor": 2
}
