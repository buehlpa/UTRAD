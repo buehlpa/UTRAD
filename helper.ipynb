{
 "cells": [
  {
   "cell_type": "code",
   "execution_count": 1,
   "metadata": {},
   "outputs": [
    {
     "ename": "NameError",
     "evalue": "name 'Dataset' is not defined",
     "output_type": "error",
     "traceback": [
      "\u001b[0;31m---------------------------------------------------------------------------\u001b[0m",
      "\u001b[0;31mNameError\u001b[0m                                 Traceback (most recent call last)",
      "Input \u001b[0;32mIn [1]\u001b[0m, in \u001b[0;36m<cell line: 1>\u001b[0;34m()\u001b[0m\n\u001b[0;32m----> 1\u001b[0m \u001b[38;5;28;01mclass\u001b[39;00m \u001b[38;5;21;01mImageDataset_mvtec\u001b[39;00m(\u001b[43mDataset\u001b[49m):\n\u001b[1;32m      2\u001b[0m     \u001b[38;5;28;01mdef\u001b[39;00m \u001b[38;5;21m__init__\u001b[39m(\u001b[38;5;28mself\u001b[39m, args, root, transforms_\u001b[38;5;241m=\u001b[39m\u001b[38;5;28;01mNone\u001b[39;00m, mode\u001b[38;5;241m=\u001b[39m\u001b[38;5;124m'\u001b[39m\u001b[38;5;124mtrain\u001b[39m\u001b[38;5;124m'\u001b[39m, train_paths\u001b[38;5;241m=\u001b[39m\u001b[38;5;28;01mNone\u001b[39;00m, test_paths\u001b[38;5;241m=\u001b[39m\u001b[38;5;28;01mNone\u001b[39;00m):\n\u001b[1;32m      4\u001b[0m         \u001b[38;5;28mself\u001b[39m\u001b[38;5;241m.\u001b[39mimg_size \u001b[38;5;241m=\u001b[39m \u001b[38;5;241m280\u001b[39m \u001b[38;5;241m*\u001b[39m args\u001b[38;5;241m.\u001b[39mfactor\n",
      "\u001b[0;31mNameError\u001b[0m: name 'Dataset' is not defined"
     ]
    }
   ],
   "source": [
    "class ImageDataset_mvtec(Dataset):\n",
    "    def __init__(self, args, root, transforms_=None, mode='train', train_paths=None, test_paths=None):\n",
    "        \n",
    "        self.img_size = 280 * args.factor\n",
    "        self.crop_size = 256 * args.factor\n",
    "        self.args = args\n",
    "        self.mode = mode\n",
    "        if train_paths is None and test_paths is None:\n",
    "            raise ValueError(\"either test or train paths must be provided depending on the mode\")\n",
    "        \n",
    "        self.train_paths = train_paths\n",
    "        self.test_paths = test_paths\n",
    "        \n",
    "        self.transform_train = transforms.Compose([ transforms.Resize((self.crop_size, self.crop_size), Image.BICUBIC),\n",
    "                                                transforms.Pad(int(self.crop_size/10),fill=0,padding_mode='constant'),\n",
    "                                                transforms.RandomRotation(10),\n",
    "                                                transforms.RandomCrop((self.crop_size, self.crop_size)),\n",
    "                                                transforms.ToTensor(),\n",
    "                                                transforms.Normalize(mean=[0.485, 0.456, 0.406],\n",
    "                                                    std=[0.229, 0.224, 0.225 ]) ])\n",
    "        \n",
    "        self.resize_transform_loco = transforms.Resize((self.crop_size, self.crop_size), Image.BICUBIC)\n",
    "\n",
    "        if mode == 'train':\n",
    "            self.files = train_paths\n",
    "        elif mode == 'test':\n",
    "            self.files = test_paths\n",
    "            \n",
    "    def _align_transform(self, img, mask):\n",
    "        #resize to 224\n",
    "        img = TF.resize(img, self.crop_size, Image.BICUBIC)\n",
    "        mask = TF.resize(mask, self.crop_size, Image.NEAREST)\n",
    "        #toTensor\n",
    "        img = TF.to_tensor(img)\n",
    "        mask = TF.to_tensor(mask)\n",
    "        #normalize\n",
    "        img = TF.normalize(img, mean=[0.485, 0.456, 0.406], std=[0.229, 0.224, 0.225 ])\n",
    "        return img, mask\n",
    "    \n",
    "    def _unalign_transform(self, img, mask):\n",
    "        #resize to 256\n",
    "        img = TF.resize(img, self.img_size, Image.BICUBIC)\n",
    "        mask = TF.resize(mask, self.img_size, Image.NEAREST)\n",
    "        #random rotation\n",
    "        angle = transforms.RandomRotation.get_params([-10, 10])\n",
    "        img = TF.rotate(img, angle, fill=(0,))\n",
    "        mask = TF.rotate(mask, angle, fill=(0,))\n",
    "        #random crop\n",
    "        i, j, h, w = transforms.RandomCrop.get_params(img, output_size=(self.crop_size, self.crop_size))\n",
    "        img = TF.crop(img, i, j, h, w)\n",
    "        mask = TF.crop(mask, i, j, h, w)\n",
    "        #toTensor\n",
    "        img = TF.to_tensor(img)\n",
    "        mask = TF.to_tensor(mask)\n",
    "        #normalize\n",
    "        img = TF.normalize(img, mean=[0.485, 0.456, 0.406], std=[0.229, 0.224, 0.225 ])\n",
    "        return img, mask\n",
    "\n",
    "    def __getitem__(self, index):\n",
    "        filename = self.files[index]\n",
    "        img = Image.open(filename)\n",
    "        img = img.convert('RGB')\n",
    "        \n",
    "\n",
    "        if self.args.mode=='mvtec_loco':\n",
    "            img = self.resize_transform_loco(img)       \n",
    "\n",
    "        \n",
    "        if self.mode == 'train':\n",
    "            img = self.transform_train(img)            \n",
    "            return filename, img\n",
    "        \n",
    "        elif self.mode == 'test':\n",
    "            transform_test = self._unalign_transform if self.args.unalign_test else self._align_transform\n",
    "            img_size = (img.size[0], img.size[1])\n",
    "            \n",
    "            \n",
    "            if 'good' in filename:    \n",
    "                ground_truth =Image.new('L',(img_size[0],img_size[1]),0)\n",
    "                img, ground_truth = transform_test(img, ground_truth)\n",
    "                \n",
    "                return filename, img, ground_truth, 0\n",
    "            else:   \n",
    "                # different ground truth schema for mvtec_loco\n",
    "                if self.args.mode=='mvtec_loco':\n",
    "                    ground_truth = Image.open(filename.replace(\"test\", \"ground_truth\").replace(\".png\", \"/000.png\"))                        \n",
    "                if self.args.mode=='mvtec':\n",
    "                    ground_truth = Image.open(filename.replace(\"test\", \"ground_truth\").replace(\".png\", \"_mask.png\"))\n",
    "                \n",
    "                ground_truth = self.resize_transform_loco(ground_truth)  \n",
    "                img, ground_truth = transform_test(img, ground_truth)\n",
    "                \n",
    "                return filename, img, ground_truth, 1\n",
    "            \n",
    "    def __len__(self):\n",
    "        return len(self.files)\n"
   ]
  },
  {
   "cell_type": "code",
   "execution_count": 29,
   "metadata": {},
   "outputs": [
    {
     "data": {
      "text/plain": [
       "0.5344052"
      ]
     },
     "execution_count": 29,
     "metadata": {},
     "output_type": "execute_result"
    }
   ],
   "source": [
    "import torch\n",
    "torch.rand(1).numpy()[0]"
   ]
  }
 ],
 "metadata": {
  "kernelspec": {
   "display_name": "ultrad",
   "language": "python",
   "name": "python3"
  },
  "language_info": {
   "codemirror_mode": {
    "name": "ipython",
    "version": 3
   },
   "file_extension": ".py",
   "mimetype": "text/x-python",
   "name": "python",
   "nbconvert_exporter": "python",
   "pygments_lexer": "ipython3",
   "version": "3.9.undefined"
  }
 },
 "nbformat": 4,
 "nbformat_minor": 2
}
