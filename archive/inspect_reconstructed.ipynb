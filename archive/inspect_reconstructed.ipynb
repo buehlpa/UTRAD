{
 "cells": [
  {
   "cell_type": "markdown",
   "metadata": {},
   "source": [
    "# INSPECT the feature maps from the backbone RESNET"
   ]
  },
  {
   "cell_type": "code",
   "execution_count": 1,
   "metadata": {},
   "outputs": [
    {
     "ename": "ModuleNotFoundError",
     "evalue": "No module named 'models'",
     "output_type": "error",
     "traceback": [
      "\u001b[0;31m---------------------------------------------------------------------------\u001b[0m",
      "\u001b[0;31mModuleNotFoundError\u001b[0m                       Traceback (most recent call last)",
      "Input \u001b[0;32mIn [1]\u001b[0m, in \u001b[0;36m<cell line: 3>\u001b[0;34m()\u001b[0m\n\u001b[1;32m      1\u001b[0m \u001b[38;5;28;01mimport\u001b[39;00m \u001b[38;5;21;01mtorch\u001b[39;00m\n\u001b[1;32m      2\u001b[0m \u001b[38;5;28;01mimport\u001b[39;00m \u001b[38;5;21;01mtorch\u001b[39;00m\u001b[38;5;21;01m.\u001b[39;00m\u001b[38;5;21;01mnn\u001b[39;00m\u001b[38;5;21;01m.\u001b[39;00m\u001b[38;5;21;01mfunctional\u001b[39;00m \u001b[38;5;28;01mas\u001b[39;00m \u001b[38;5;21;01mF\u001b[39;00m\n\u001b[0;32m----> 3\u001b[0m \u001b[38;5;28;01mfrom\u001b[39;00m \u001b[38;5;21;01mmodels\u001b[39;00m \u001b[38;5;28;01mimport\u001b[39;00m Create_nets\n\u001b[1;32m      4\u001b[0m \u001b[38;5;28;01mfrom\u001b[39;00m \u001b[38;5;21;01mdatasets\u001b[39;00m \u001b[38;5;28;01mimport\u001b[39;00m Get_dataloader\n\u001b[1;32m      5\u001b[0m \u001b[38;5;28;01mfrom\u001b[39;00m \u001b[38;5;21;01moptions\u001b[39;00m \u001b[38;5;28;01mimport\u001b[39;00m TrainOptions\n",
      "\u001b[0;31mModuleNotFoundError\u001b[0m: No module named 'models'"
     ]
    }
   ],
   "source": [
    "\n",
    "import torch\n",
    "import torch.nn.functional as F\n",
    "from models import Create_nets\n",
    "from datasets import Get_dataloader\n",
    "from options import TrainOptions\n",
    "from torchvision import models\n",
    "import matplotlib.pyplot as plt\n",
    "import numpy as np\n",
    "device = torch.device(\"cuda:0\" if torch.cuda.is_available() else \"cpu\")\n",
    "import os\n",
    "import numpy as np\n",
    "from skimage.metrics import structural_similarity as ssim\n",
    "from scipy.ndimage import sobel\n"
   ]
  },
  {
   "cell_type": "markdown",
   "metadata": {},
   "source": [
    "# outputs of backbone model features\n",
    "\n",
    "3 feature levels\n",
    "#### torch.Size([2, 64, 64, 64])\n",
    "#### torch.Size([2, 128, 32, 32])\n",
    "#### torch.Size([2, 256, 16, 16])"
   ]
  },
  {
   "cell_type": "code",
   "execution_count": null,
   "metadata": {},
   "outputs": [],
   "source": [
    "SAVE_PATH = './inspects'\n",
    "category='cable'\n"
   ]
  },
  {
   "cell_type": "code",
   "execution_count": null,
   "metadata": {},
   "outputs": [],
   "source": [
    "def plot_images(images):\n",
    "    num_images = images.shape[0]\n",
    "    num_rows = int(num_images ** 0.5)\n",
    "    num_cols = num_images // num_rows\n",
    "    fig, axes = plt.subplots(nrows=num_rows, ncols=num_cols, figsize=(20, 20))\n",
    "    for i, ax in enumerate(axes.flat):\n",
    "        ax.imshow(images[i], cmap='viridis')\n",
    "        ax.axis('off')\n",
    "    plt.subplots_adjust(wspace=0.01, hspace=0.05)  # Adjust the spacing between subplots\n",
    "    plt.show()"
   ]
  },
  {
   "cell_type": "markdown",
   "metadata": {},
   "source": [
    "# Normal"
   ]
  },
  {
   "cell_type": "code",
   "execution_count": null,
   "metadata": {},
   "outputs": [],
   "source": [
    "image_path = '/home/bule/projects/MVTec_Visualizer/data/mvtec_anomaly_detection/cable/train/good/177.png'\n",
    "image = plt.imread(image_path)\n",
    "plt.imshow(image)\n",
    "plt.axis('off')\n",
    "plt.show()\n"
   ]
  },
  {
   "cell_type": "code",
   "execution_count": null,
   "metadata": {},
   "outputs": [],
   "source": [
    "outputs=torch.load(os.path.join(SAVE_PATH,f'outputs_train_{category}.pth'))\n",
    "image = outputs[1:2, :, :, :].clone().squeeze(0).cpu().numpy()\n",
    "images=image[:64,:,:]\n",
    "\n",
    "plot_images(images)"
   ]
  },
  {
   "cell_type": "code",
   "execution_count": null,
   "metadata": {},
   "outputs": [],
   "source": [
    "Recons=torch.load(os.path.join(SAVE_PATH,f'recons_train_{category}.pth'))\n",
    "image = Recons[1:2, :, :, :].clone().squeeze(0).cpu().numpy()\n",
    "images=image[:64,:,:]\n",
    "\n",
    "plot_images(images)"
   ]
  },
  {
   "cell_type": "markdown",
   "metadata": {},
   "source": [
    "# Anomaly"
   ]
  },
  {
   "cell_type": "code",
   "execution_count": null,
   "metadata": {},
   "outputs": [],
   "source": [
    "\n",
    "image_path = '/home/bule/projects/MVTec_Visualizer/data/mvtec_anomaly_detection//cable/test/bent_wire/000.png'\n",
    "image = plt.imread(image_path)\n",
    "plt.imshow(image)\n",
    "plt.axis('off')\n",
    "plt.show()"
   ]
  },
  {
   "cell_type": "code",
   "execution_count": null,
   "metadata": {},
   "outputs": [],
   "source": [
    "outputs=torch.load(os.path.join(SAVE_PATH,f'outputs_test_{category}.pth'))\n",
    "image = outputs[1:2, :, :, :].clone().squeeze(0).cpu().numpy()\n",
    "images_outputs=image[:64,:,:]\n",
    "\n",
    "plot_images(images_outputs)"
   ]
  },
  {
   "cell_type": "code",
   "execution_count": null,
   "metadata": {},
   "outputs": [],
   "source": [
    "Recons=torch.load(os.path.join(SAVE_PATH,f'recons_test_{category}.pth'))\n",
    "image = Recons[1:2, :, :, :].clone().squeeze(0).cpu().numpy()\n",
    "images_recons=image[:64,:,:]\n",
    "  \n",
    "plot_images(images_recons)"
   ]
  },
  {
   "cell_type": "code",
   "execution_count": null,
   "metadata": {},
   "outputs": [],
   "source": [
    "def calculate_mse_difference_maps(images_recons, images_outputs):\n",
    "    images_recons = np.array(images_recons)\n",
    "    images_outputs = np.array(images_outputs)\n",
    "    mse_difference_maps = (images_recons - images_outputs) ** 2\n",
    "    return mse_difference_maps"
   ]
  },
  {
   "cell_type": "code",
   "execution_count": null,
   "metadata": {},
   "outputs": [],
   "source": [
    "mse_map=calculate_mse_difference_maps(images_recons, images_outputs)\n",
    "\n",
    "plot_images((images_recons - images_outputs) ** 2)\n",
    "plot_images(mse_map)"
   ]
  }
 ],
 "metadata": {
  "kernelspec": {
   "display_name": "ultrad",
   "language": "python",
   "name": "python3"
  },
  "language_info": {
   "codemirror_mode": {
    "name": "ipython",
    "version": 3
   },
   "file_extension": ".py",
   "mimetype": "text/x-python",
   "name": "python",
   "nbconvert_exporter": "python",
   "pygments_lexer": "ipython3",
   "version": "3.9.18"
  }
 },
 "nbformat": 4,
 "nbformat_minor": 2
}
